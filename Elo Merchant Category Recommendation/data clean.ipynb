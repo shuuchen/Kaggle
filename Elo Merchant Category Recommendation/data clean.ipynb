{
 "cells": [
  {
   "cell_type": "code",
   "execution_count": 1,
   "metadata": {},
   "outputs": [],
   "source": [
    "import os\n",
    "import pandas as pd\n",
    "import numpy as np\n",
    "import matplotlib.pyplot as plt\n",
    "from IPython.core.pylabtools import figsize\n",
    "import dask.dataframe as dd\n",
    "\n",
    "plt.style.use('seaborn-darkgrid')\n",
    "%matplotlib inline"
   ]
  },
  {
   "cell_type": "markdown",
   "metadata": {},
   "source": [
    "### Clean data\n",
    "- 1, drop nan rows\n",
    "- 2, drop constant columns\n",
    "- 3, drop rows with the duplicated ids\n",
    "\n",
    "### For each file\n",
    "- train.csv 1, 2, 3\n",
    "- merchants.csv 1, 2, 3\n",
    "- historical_transactions.csv 1, 2\n",
    "- new_merchant_transactions.csv 1, 2"
   ]
  },
  {
   "cell_type": "code",
   "execution_count": 2,
   "metadata": {},
   "outputs": [],
   "source": [
    "in_dir = './data'\n",
    "out_dir = './cleaned data'"
   ]
  },
  {
   "cell_type": "code",
   "execution_count": 12,
   "metadata": {},
   "outputs": [
    {
     "name": "stdout",
     "output_type": "stream",
     "text": [
      "original shape:  (201917, 6)\n",
      "after dropping nans:  (201917, 6)\n",
      "after dropping nans and constant columns (201917, 6)\n",
      "after dropping nans, constant columns and duplicated ids (201917, 5)\n"
     ]
    }
   ],
   "source": [
    "'''train.csv'''\n",
    "df = pd.read_csv(os.path.join(in_dir, 'train.csv'))\n",
    "print('original shape: ', df.shape)\n",
    "df = df.dropna()\n",
    "print('after dropping nans: ', df.shape)\n",
    "df = df.loc[:, (df != df.iloc[0]).any()]\n",
    "print('after dropping nans and constant columns', df.shape)\n",
    "df = df.set_index('card_id')\n",
    "df = df[~df.index.duplicated(keep='first')]\n",
    "print('after dropping nans, constant columns and duplicated ids', df.shape)\n",
    "\n",
    "df.to_csv(os.path.join(out_dir, 'train.csv'))"
   ]
  },
  {
   "cell_type": "code",
   "execution_count": 13,
   "metadata": {},
   "outputs": [
    {
     "name": "stdout",
     "output_type": "stream",
     "text": [
      "original shape:  (334696, 22)\n",
      "after dropping nans:  (322802, 22)\n",
      "after dropping nans and constant columns (322802, 21)\n",
      "after dropping nans, constant columns and duplicated ids (322763, 20)\n"
     ]
    }
   ],
   "source": [
    "'''merchants.csv'''\n",
    "df = pd.read_csv(os.path.join(in_dir, 'merchants.csv'))\n",
    "print('original shape: ', df.shape)\n",
    "df = df.dropna()\n",
    "print('after dropping nans: ', df.shape)\n",
    "df = df.loc[:, (df != df.iloc[0]).any()]\n",
    "print('after dropping nans and constant columns', df.shape)\n",
    "df = df.set_index('merchant_id')\n",
    "df = df[~df.index.duplicated(keep='first')]\n",
    "print('after dropping nans, constant columns and duplicated ids', df.shape)\n",
    "\n",
    "df.to_csv(os.path.join(out_dir, 'merchants.csv'))"
   ]
  },
  {
   "cell_type": "code",
   "execution_count": null,
   "metadata": {},
   "outputs": [
    {
     "name": "stdout",
     "output_type": "stream",
     "text": [
      "original shape:  (29112361, 14)\n"
     ]
    }
   ],
   "source": [
    "'''historical_transactions.csv'''\n",
    "df = dd.read_csv(os.path.join(in_dir, 'historical_transactions.csv')).compute()\n",
    "print('original shape: ', df.shape)\n",
    "df = df.dropna()\n",
    "print('after dropping nans: ', df.shape)\n",
    "df = df.loc[:, (df != df.iloc[0]).any()]\n",
    "print('after dropping nans and constant columns', df.shape)\n",
    "\n",
    "df.to_csv(os.path.join(out_dir, 'historical_transactions.csv'))"
   ]
  },
  {
   "cell_type": "code",
   "execution_count": null,
   "metadata": {},
   "outputs": [],
   "source": []
  }
 ],
 "metadata": {
  "kernelspec": {
   "display_name": "Python 3",
   "language": "python",
   "name": "python3"
  },
  "language_info": {
   "codemirror_mode": {
    "name": "ipython",
    "version": 3
   },
   "file_extension": ".py",
   "mimetype": "text/x-python",
   "name": "python",
   "nbconvert_exporter": "python",
   "pygments_lexer": "ipython3",
   "version": "3.6.5"
  }
 },
 "nbformat": 4,
 "nbformat_minor": 2
}
