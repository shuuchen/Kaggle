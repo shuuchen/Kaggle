{
 "cells": [
  {
   "cell_type": "code",
   "execution_count": 1,
   "metadata": {},
   "outputs": [],
   "source": [
    "import os\n",
    "import pandas as pd\n",
    "import numpy as np\n",
    "import matplotlib.pyplot as plt\n",
    "from IPython.core.pylabtools import figsize\n",
    "\n",
    "plt.style.use('seaborn-darkgrid')\n",
    "%matplotlib inline"
   ]
  },
  {
   "cell_type": "markdown",
   "metadata": {},
   "source": [
    "### Load data function\n",
    "- drop NAN rows\n",
    "- drop constant columns\n",
    "- set index column"
   ]
  },
  {
   "cell_type": "code",
   "execution_count": 68,
   "metadata": {},
   "outputs": [],
   "source": [
    "def filter_csv(df):\n",
    "    \n",
    "    df = df.dropna()\n",
    "    df = df.loc[:, (df != df.iloc[0]).any()]\n",
    "    \n",
    "    return df\n",
    "\n",
    "def load_csv(fname, index_col_name):\n",
    "    \n",
    "    df = pd.read_csv(os.path.join(data_dir, fname))\n",
    "    \n",
    "    df = filter_csv(df)\n",
    "    \n",
    "    df = df.set_index(index_col_name)\n",
    "    \n",
    "    return df"
   ]
  },
  {
   "cell_type": "markdown",
   "metadata": {},
   "source": [
    "### Load train data"
   ]
  },
  {
   "cell_type": "code",
   "execution_count": 76,
   "metadata": {},
   "outputs": [
    {
     "data": {
      "text/plain": [
       "Index(['C_ID_92a2005557', 'C_ID_3d0044924f', 'C_ID_d639edf6cd',\n",
       "       'C_ID_186d6a6901', 'C_ID_cdbd2c0db2', 'C_ID_0894217f2f',\n",
       "       'C_ID_7e63323c00', 'C_ID_dfa21fc124', 'C_ID_fe0fdac8ea',\n",
       "       'C_ID_bf62c0b49d',\n",
       "       ...\n",
       "       'C_ID_598ecf1dfe', 'C_ID_c2124fa8ce', 'C_ID_64545039d3',\n",
       "       'C_ID_9072609210', 'C_ID_0443db161f', 'C_ID_963962de2c',\n",
       "       'C_ID_1314773c0b', 'C_ID_7666735b3d', 'C_ID_73f5a0efd0',\n",
       "       'C_ID_92c9984c58'],\n",
       "      dtype='object', name='card_id', length=201917)"
      ]
     },
     "execution_count": 76,
     "metadata": {},
     "output_type": "execute_result"
    }
   ],
   "source": [
    "data_dir = './data'\n",
    "\n",
    "train = load_csv('train.csv', 'card_id')\n",
    "train.index"
   ]
  },
  {
   "cell_type": "markdown",
   "metadata": {},
   "source": [
    "### Load transactions for each card id of train data"
   ]
  },
  {
   "cell_type": "code",
   "execution_count": 80,
   "metadata": {},
   "outputs": [
    {
     "name": "stdout",
     "output_type": "stream",
     "text": [
      "10\n"
     ]
    }
   ],
   "source": [
    "chunksize = 10000\n",
    "card_id_purchase = {}\n",
    "\n",
    "# load from historical_transactions.csv\n",
    "for chunk in pd.read_csv(os.path.join(data_dir, 'historical_transactions.csv'), index_col=1, chunksize=chunksize):\n",
    "\n",
    "    for card_id in train.index[:10]:\n",
    "        \n",
    "        if card_id not in chunk.index: \n",
    "            continue\n",
    "            \n",
    "        if card_id in card_id_purchase:\n",
    "            card_id_purchase[card_id].append(chunk.loc[card_id])\n",
    "        else:\n",
    "            card_id_purchase[card_id] = [chunk.loc[card_id]]\n",
    "\n",
    "\n",
    "# load from new_merchant_transactions.csv\n",
    "for chunk in pd.read_csv(os.path.join(data_dir, 'new_merchant_transactions.csv'), index_col=1, chunksize=chunksize):\n",
    "\n",
    "    for card_id in train.index[:10]:\n",
    "        \n",
    "        if card_id not in chunk.index: \n",
    "            continue\n",
    "            \n",
    "        if card_id in card_id_purchase:\n",
    "            card_id_purchase[card_id].append(chunk.loc[card_id])\n",
    "        else:\n",
    "            card_id_purchase[card_id] = [chunk.loc[card_id]]\n",
    "            \n",
    "print(len(card_id_purchase))\n"
   ]
  },
  {
   "cell_type": "code",
   "execution_count": 81,
   "metadata": {},
   "outputs": [
    {
     "name": "stderr",
     "output_type": "stream",
     "text": [
      "/anaconda/envs/py36/lib/python3.6/site-packages/pandas/core/indexes/api.py:107: RuntimeWarning: '<' not supported between instances of 'str' and 'int', sort order is undefined for incomparable objects\n",
      "  result = result.union(other)\n"
     ]
    }
   ],
   "source": [
    "# concat \n",
    "for k in card_id_purchase:\n",
    "    card_id_purchase[k] = pd.concat(card_id_purchase[k])"
   ]
  },
  {
   "cell_type": "code",
   "execution_count": 82,
   "metadata": {},
   "outputs": [
    {
     "name": "stdout",
     "output_type": "stream",
     "text": [
      "C_ID_7e63323c00\n"
     ]
    }
   ],
   "source": [
    "for k in card_id_purchase:\n",
    "    print(k)\n",
    "    break"
   ]
  },
  {
   "cell_type": "code",
   "execution_count": 85,
   "metadata": {},
   "outputs": [
    {
     "data": {
      "text/html": [
       "<div>\n",
       "<style scoped>\n",
       "    .dataframe tbody tr th:only-of-type {\n",
       "        vertical-align: middle;\n",
       "    }\n",
       "\n",
       "    .dataframe tbody tr th {\n",
       "        vertical-align: top;\n",
       "    }\n",
       "\n",
       "    .dataframe thead th {\n",
       "        text-align: right;\n",
       "    }\n",
       "</style>\n",
       "<table border=\"1\" class=\"dataframe\">\n",
       "  <thead>\n",
       "    <tr style=\"text-align: right;\">\n",
       "      <th></th>\n",
       "      <th>authorized_flag</th>\n",
       "      <th>city_id</th>\n",
       "      <th>merchant_category_id</th>\n",
       "      <th>merchant_id</th>\n",
       "      <th>month_lag</th>\n",
       "      <th>purchase_amount</th>\n",
       "      <th>purchase_date</th>\n",
       "      <th>category_2</th>\n",
       "      <th>state_id</th>\n",
       "      <th>subsector_id</th>\n",
       "    </tr>\n",
       "    <tr>\n",
       "      <th>card_id</th>\n",
       "      <th></th>\n",
       "      <th></th>\n",
       "      <th></th>\n",
       "      <th></th>\n",
       "      <th></th>\n",
       "      <th></th>\n",
       "      <th></th>\n",
       "      <th></th>\n",
       "      <th></th>\n",
       "      <th></th>\n",
       "    </tr>\n",
       "  </thead>\n",
       "  <tbody>\n",
       "    <tr>\n",
       "      <th>C_ID_7e63323c00</th>\n",
       "      <td>Y</td>\n",
       "      <td>160</td>\n",
       "      <td>705</td>\n",
       "      <td>M_ID_f7acf6f9d3</td>\n",
       "      <td>-13</td>\n",
       "      <td>-0.708169</td>\n",
       "      <td>2017-01-27 12:27:08</td>\n",
       "      <td>5.0</td>\n",
       "      <td>21</td>\n",
       "      <td>33</td>\n",
       "    </tr>\n",
       "    <tr>\n",
       "      <th>C_ID_7e63323c00</th>\n",
       "      <td>Y</td>\n",
       "      <td>160</td>\n",
       "      <td>367</td>\n",
       "      <td>M_ID_915d8da3ad</td>\n",
       "      <td>-1</td>\n",
       "      <td>-0.628784</td>\n",
       "      <td>2018-01-30 18:34:18</td>\n",
       "      <td>5.0</td>\n",
       "      <td>21</td>\n",
       "      <td>16</td>\n",
       "    </tr>\n",
       "    <tr>\n",
       "      <th>C_ID_7e63323c00</th>\n",
       "      <td>Y</td>\n",
       "      <td>268</td>\n",
       "      <td>705</td>\n",
       "      <td>M_ID_c59fb0907b</td>\n",
       "      <td>-5</td>\n",
       "      <td>-0.735097</td>\n",
       "      <td>2017-09-14 17:37:57</td>\n",
       "      <td>5.0</td>\n",
       "      <td>21</td>\n",
       "      <td>33</td>\n",
       "    </tr>\n",
       "    <tr>\n",
       "      <th>C_ID_7e63323c00</th>\n",
       "      <td>Y</td>\n",
       "      <td>160</td>\n",
       "      <td>705</td>\n",
       "      <td>M_ID_548f18cdd2</td>\n",
       "      <td>-11</td>\n",
       "      <td>-0.725811</td>\n",
       "      <td>2017-03-20 15:07:04</td>\n",
       "      <td>5.0</td>\n",
       "      <td>21</td>\n",
       "      <td>33</td>\n",
       "    </tr>\n",
       "    <tr>\n",
       "      <th>C_ID_7e63323c00</th>\n",
       "      <td>Y</td>\n",
       "      <td>160</td>\n",
       "      <td>705</td>\n",
       "      <td>M_ID_548f18cdd2</td>\n",
       "      <td>-13</td>\n",
       "      <td>-0.688124</td>\n",
       "      <td>2017-01-17 14:03:25</td>\n",
       "      <td>5.0</td>\n",
       "      <td>21</td>\n",
       "      <td>33</td>\n",
       "    </tr>\n",
       "  </tbody>\n",
       "</table>\n",
       "</div>"
      ],
      "text/plain": [
       "                authorized_flag  city_id  merchant_category_id  \\\n",
       "card_id                                                          \n",
       "C_ID_7e63323c00               Y      160                   705   \n",
       "C_ID_7e63323c00               Y      160                   367   \n",
       "C_ID_7e63323c00               Y      268                   705   \n",
       "C_ID_7e63323c00               Y      160                   705   \n",
       "C_ID_7e63323c00               Y      160                   705   \n",
       "\n",
       "                     merchant_id  month_lag  purchase_amount  \\\n",
       "card_id                                                        \n",
       "C_ID_7e63323c00  M_ID_f7acf6f9d3        -13        -0.708169   \n",
       "C_ID_7e63323c00  M_ID_915d8da3ad         -1        -0.628784   \n",
       "C_ID_7e63323c00  M_ID_c59fb0907b         -5        -0.735097   \n",
       "C_ID_7e63323c00  M_ID_548f18cdd2        -11        -0.725811   \n",
       "C_ID_7e63323c00  M_ID_548f18cdd2        -13        -0.688124   \n",
       "\n",
       "                       purchase_date  category_2  state_id  subsector_id  \n",
       "card_id                                                                   \n",
       "C_ID_7e63323c00  2017-01-27 12:27:08         5.0        21            33  \n",
       "C_ID_7e63323c00  2018-01-30 18:34:18         5.0        21            16  \n",
       "C_ID_7e63323c00  2017-09-14 17:37:57         5.0        21            33  \n",
       "C_ID_7e63323c00  2017-03-20 15:07:04         5.0        21            33  \n",
       "C_ID_7e63323c00  2017-01-17 14:03:25         5.0        21            33  "
      ]
     },
     "execution_count": 85,
     "metadata": {},
     "output_type": "execute_result"
    }
   ],
   "source": [
    "df = card_id_purchase['C_ID_7e63323c00']\n",
    "df = filter_csv(df)\n",
    "df.head()"
   ]
  },
  {
   "cell_type": "code",
   "execution_count": 92,
   "metadata": {},
   "outputs": [
    {
     "data": {
      "text/plain": [
       "(264, 11)"
      ]
     },
     "execution_count": 92,
     "metadata": {},
     "output_type": "execute_result"
    }
   ],
   "source": [
    "df['purchase_date'] = pd.to_datetime(df.purchase_date)\n",
    "df = df.sort_values(by='purchase_date')\n",
    "df_ = pd.get_dummies(df, columns=['authorized_flag'])\n",
    "df_.shape"
   ]
  },
  {
   "cell_type": "markdown",
   "metadata": {},
   "source": [
    "### Merge merchat information"
   ]
  },
  {
   "cell_type": "code",
   "execution_count": 91,
   "metadata": {},
   "outputs": [
    {
     "name": "stdout",
     "output_type": "stream",
     "text": [
      "(322802, 20)\n"
     ]
    }
   ],
   "source": [
    "merchant = pd.read_csv(os.path.join(data_dir, 'merchants.csv'), index_col=0)\n",
    "merchant = filter_csv(merchant)\n",
    "print(merchant.shape)"
   ]
  },
  {
   "cell_type": "code",
   "execution_count": 93,
   "metadata": {},
   "outputs": [
    {
     "data": {
      "text/plain": [
       "8"
      ]
     },
     "execution_count": 93,
     "metadata": {},
     "output_type": "execute_result"
    }
   ],
   "source": [
    "m_infos = []\n",
    "not_in = []\n",
    "for m_id in df_['merchant_id']:\n",
    "    if m_id not in merchant.index:\n",
    "        not_in.append(m_id)\n",
    "    else:\n",
    "        m_infos.append(merchant.loc[m_id].to_frame().T)\n",
    "m_infos = pd.concat(m_infos)\n",
    "m_infos.shape\n",
    "len(not_in)"
   ]
  },
  {
   "cell_type": "code",
   "execution_count": 51,
   "metadata": {},
   "outputs": [
    {
     "data": {
      "text/html": [
       "<div>\n",
       "<style scoped>\n",
       "    .dataframe tbody tr th:only-of-type {\n",
       "        vertical-align: middle;\n",
       "    }\n",
       "\n",
       "    .dataframe tbody tr th {\n",
       "        vertical-align: top;\n",
       "    }\n",
       "\n",
       "    .dataframe thead th {\n",
       "        text-align: right;\n",
       "    }\n",
       "</style>\n",
       "<table border=\"1\" class=\"dataframe\">\n",
       "  <thead>\n",
       "    <tr style=\"text-align: right;\">\n",
       "      <th></th>\n",
       "      <th>merchant_group_id</th>\n",
       "      <th>merchant_category_id</th>\n",
       "      <th>subsector_id</th>\n",
       "      <th>numerical_1</th>\n",
       "      <th>numerical_2</th>\n",
       "      <th>category_1</th>\n",
       "      <th>most_recent_sales_range</th>\n",
       "      <th>most_recent_purchases_range</th>\n",
       "      <th>avg_sales_lag3</th>\n",
       "      <th>avg_purchases_lag3</th>\n",
       "      <th>...</th>\n",
       "      <th>avg_sales_lag6</th>\n",
       "      <th>avg_purchases_lag6</th>\n",
       "      <th>active_months_lag6</th>\n",
       "      <th>avg_sales_lag12</th>\n",
       "      <th>avg_purchases_lag12</th>\n",
       "      <th>active_months_lag12</th>\n",
       "      <th>category_4</th>\n",
       "      <th>city_id</th>\n",
       "      <th>state_id</th>\n",
       "      <th>category_2</th>\n",
       "    </tr>\n",
       "  </thead>\n",
       "  <tbody>\n",
       "    <tr>\n",
       "      <th>M_ID_f7acf6f9d3</th>\n",
       "      <td>36446</td>\n",
       "      <td>705</td>\n",
       "      <td>33</td>\n",
       "      <td>-0.0277259</td>\n",
       "      <td>-0.0574706</td>\n",
       "      <td>N</td>\n",
       "      <td>B</td>\n",
       "      <td>B</td>\n",
       "      <td>1</td>\n",
       "      <td>1.00502</td>\n",
       "      <td>...</td>\n",
       "      <td>0.98</td>\n",
       "      <td>0.994477</td>\n",
       "      <td>6</td>\n",
       "      <td>0.99</td>\n",
       "      <td>1.00377</td>\n",
       "      <td>12</td>\n",
       "      <td>Y</td>\n",
       "      <td>160</td>\n",
       "      <td>21</td>\n",
       "      <td>5</td>\n",
       "    </tr>\n",
       "    <tr>\n",
       "      <th>M_ID_915d8da3ad</th>\n",
       "      <td>2594</td>\n",
       "      <td>367</td>\n",
       "      <td>16</td>\n",
       "      <td>0.0912529</td>\n",
       "      <td>-0.0574706</td>\n",
       "      <td>N</td>\n",
       "      <td>C</td>\n",
       "      <td>C</td>\n",
       "      <td>1.04</td>\n",
       "      <td>1.06231</td>\n",
       "      <td>...</td>\n",
       "      <td>1.05</td>\n",
       "      <td>1.06769</td>\n",
       "      <td>6</td>\n",
       "      <td>1.12</td>\n",
       "      <td>1.10133</td>\n",
       "      <td>12</td>\n",
       "      <td>Y</td>\n",
       "      <td>160</td>\n",
       "      <td>21</td>\n",
       "      <td>5</td>\n",
       "    </tr>\n",
       "    <tr>\n",
       "      <th>M_ID_c59fb0907b</th>\n",
       "      <td>322</td>\n",
       "      <td>705</td>\n",
       "      <td>33</td>\n",
       "      <td>-0.017811</td>\n",
       "      <td>-0.0475558</td>\n",
       "      <td>N</td>\n",
       "      <td>B</td>\n",
       "      <td>B</td>\n",
       "      <td>0.98</td>\n",
       "      <td>0.935957</td>\n",
       "      <td>...</td>\n",
       "      <td>0.99</td>\n",
       "      <td>0.934577</td>\n",
       "      <td>6</td>\n",
       "      <td>1.01</td>\n",
       "      <td>0.955363</td>\n",
       "      <td>12</td>\n",
       "      <td>N</td>\n",
       "      <td>268</td>\n",
       "      <td>21</td>\n",
       "      <td>5</td>\n",
       "    </tr>\n",
       "    <tr>\n",
       "      <th>M_ID_548f18cdd2</th>\n",
       "      <td>32531</td>\n",
       "      <td>705</td>\n",
       "      <td>33</td>\n",
       "      <td>0.170572</td>\n",
       "      <td>-0.0574706</td>\n",
       "      <td>N</td>\n",
       "      <td>A</td>\n",
       "      <td>A</td>\n",
       "      <td>1.01</td>\n",
       "      <td>1.00028</td>\n",
       "      <td>...</td>\n",
       "      <td>1.02</td>\n",
       "      <td>1.00291</td>\n",
       "      <td>6</td>\n",
       "      <td>1.05</td>\n",
       "      <td>1.03372</td>\n",
       "      <td>12</td>\n",
       "      <td>Y</td>\n",
       "      <td>160</td>\n",
       "      <td>21</td>\n",
       "      <td>5</td>\n",
       "    </tr>\n",
       "    <tr>\n",
       "      <th>M_ID_548f18cdd2</th>\n",
       "      <td>32531</td>\n",
       "      <td>705</td>\n",
       "      <td>33</td>\n",
       "      <td>0.170572</td>\n",
       "      <td>-0.0574706</td>\n",
       "      <td>N</td>\n",
       "      <td>A</td>\n",
       "      <td>A</td>\n",
       "      <td>1.01</td>\n",
       "      <td>1.00028</td>\n",
       "      <td>...</td>\n",
       "      <td>1.02</td>\n",
       "      <td>1.00291</td>\n",
       "      <td>6</td>\n",
       "      <td>1.05</td>\n",
       "      <td>1.03372</td>\n",
       "      <td>12</td>\n",
       "      <td>Y</td>\n",
       "      <td>160</td>\n",
       "      <td>21</td>\n",
       "      <td>5</td>\n",
       "    </tr>\n",
       "  </tbody>\n",
       "</table>\n",
       "<p>5 rows × 21 columns</p>\n",
       "</div>"
      ],
      "text/plain": [
       "                merchant_group_id merchant_category_id subsector_id  \\\n",
       "M_ID_f7acf6f9d3             36446                  705           33   \n",
       "M_ID_915d8da3ad              2594                  367           16   \n",
       "M_ID_c59fb0907b               322                  705           33   \n",
       "M_ID_548f18cdd2             32531                  705           33   \n",
       "M_ID_548f18cdd2             32531                  705           33   \n",
       "\n",
       "                numerical_1 numerical_2 category_1 most_recent_sales_range  \\\n",
       "M_ID_f7acf6f9d3  -0.0277259  -0.0574706          N                       B   \n",
       "M_ID_915d8da3ad   0.0912529  -0.0574706          N                       C   \n",
       "M_ID_c59fb0907b   -0.017811  -0.0475558          N                       B   \n",
       "M_ID_548f18cdd2    0.170572  -0.0574706          N                       A   \n",
       "M_ID_548f18cdd2    0.170572  -0.0574706          N                       A   \n",
       "\n",
       "                most_recent_purchases_range avg_sales_lag3 avg_purchases_lag3  \\\n",
       "M_ID_f7acf6f9d3                           B              1            1.00502   \n",
       "M_ID_915d8da3ad                           C           1.04            1.06231   \n",
       "M_ID_c59fb0907b                           B           0.98           0.935957   \n",
       "M_ID_548f18cdd2                           A           1.01            1.00028   \n",
       "M_ID_548f18cdd2                           A           1.01            1.00028   \n",
       "\n",
       "                   ...     avg_sales_lag6 avg_purchases_lag6  \\\n",
       "M_ID_f7acf6f9d3    ...               0.98           0.994477   \n",
       "M_ID_915d8da3ad    ...               1.05            1.06769   \n",
       "M_ID_c59fb0907b    ...               0.99           0.934577   \n",
       "M_ID_548f18cdd2    ...               1.02            1.00291   \n",
       "M_ID_548f18cdd2    ...               1.02            1.00291   \n",
       "\n",
       "                active_months_lag6 avg_sales_lag12 avg_purchases_lag12  \\\n",
       "M_ID_f7acf6f9d3                  6            0.99             1.00377   \n",
       "M_ID_915d8da3ad                  6            1.12             1.10133   \n",
       "M_ID_c59fb0907b                  6            1.01            0.955363   \n",
       "M_ID_548f18cdd2                  6            1.05             1.03372   \n",
       "M_ID_548f18cdd2                  6            1.05             1.03372   \n",
       "\n",
       "                active_months_lag12 category_4 city_id state_id category_2  \n",
       "M_ID_f7acf6f9d3                  12          Y     160       21          5  \n",
       "M_ID_915d8da3ad                  12          Y     160       21          5  \n",
       "M_ID_c59fb0907b                  12          N     268       21          5  \n",
       "M_ID_548f18cdd2                  12          Y     160       21          5  \n",
       "M_ID_548f18cdd2                  12          Y     160       21          5  \n",
       "\n",
       "[5 rows x 21 columns]"
      ]
     },
     "execution_count": 51,
     "metadata": {},
     "output_type": "execute_result"
    }
   ],
   "source": [
    "m_infos.head()"
   ]
  },
  {
   "cell_type": "code",
   "execution_count": 52,
   "metadata": {},
   "outputs": [
    {
     "data": {
      "text/plain": [
       "['M_ID_1c8dce7fc2',\n",
       " nan,\n",
       " 'M_ID_1c8dce7fc2',\n",
       " 'M_ID_00a6ca8a8a',\n",
       " 'M_ID_a6c4d75942',\n",
       " 'M_ID_a9d91682ad',\n",
       " 'M_ID_a9d91682ad',\n",
       " 'M_ID_a9d91682ad',\n",
       " 'M_ID_a9d91682ad']"
      ]
     },
     "execution_count": 52,
     "metadata": {},
     "output_type": "execute_result"
    }
   ],
   "source": [
    "not_in"
   ]
  },
  {
   "cell_type": "code",
   "execution_count": null,
   "metadata": {},
   "outputs": [],
   "source": []
  }
 ],
 "metadata": {
  "kernelspec": {
   "display_name": "Python 3",
   "language": "python",
   "name": "python3"
  },
  "language_info": {
   "codemirror_mode": {
    "name": "ipython",
    "version": 3
   },
   "file_extension": ".py",
   "mimetype": "text/x-python",
   "name": "python",
   "nbconvert_exporter": "python",
   "pygments_lexer": "ipython3",
   "version": "3.6.5"
  }
 },
 "nbformat": 4,
 "nbformat_minor": 2
}
